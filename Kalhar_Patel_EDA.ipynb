{
  "nbformat": 4,
  "nbformat_minor": 0,
  "metadata": {
    "colab": {
      "provenance": []
    },
    "kernelspec": {
      "name": "python3",
      "display_name": "Python 3"
    },
    "language_info": {
      "name": "python"
    }
  },
  "cells": [
    {
      "cell_type": "markdown",
      "source": [
        "***Name: Kalhar Patel***\n",
        "\n",
        "Mail: kalharpatel9@gmail.com\n",
        "\n",
        "---\n",
        "\n"
      ],
      "metadata": {
        "id": "ZnnDZVEw9FBL"
      }
    },
    {
      "cell_type": "markdown",
      "source": [
        "***Task 1: Exploratory Data Analysis (EDA) & Buisness Insights:***"
      ],
      "metadata": {
        "id": "qMVA55oN8zWM"
      }
    },
    {
      "cell_type": "code",
      "execution_count": 20,
      "metadata": {
        "id": "aFrwzr8G76nS"
      },
      "outputs": [],
      "source": [
        "import pandas as pd\n",
        "import numpy as np\n",
        "from datetime import datetime\n",
        "import matplotlib.pyplot as plt\n",
        "import seaborn as sns\n",
        "from scipy import stats\n",
        "from tkinter import *\n",
        "from io import StringIO\n",
        "\n"
      ]
    },
    {
      "cell_type": "markdown",
      "source": [
        "**Loading and Analysing the data for basic data exploration using Pandas & Analysis about Customers,Product and Transaction by calculating customer purchase frequency and total spending:**"
      ],
      "metadata": {
        "id": "CRfzlSX094qg"
      }
    },
    {
      "cell_type": "code",
      "source": [
        "async def load_and_analyze_data():\n",
        "    # Read the CSV files\n",
        "    customers_df = pd.read_csv('/content/Customers.csv', encoding='utf8')\n",
        "    products_df = pd.read_csv('/content/Products.csv', encoding='utf8')\n",
        "    transactions_df = pd.read_csv('/content/Transactions.csv', encoding='utf8')\n",
        "\n",
        "    # Basic data exploration\n",
        "    print(\"\\nCustomers Dataset Info:\")\n",
        "    print(customers_df.info())\n",
        "    print(\"\\nProducts Dataset Info:\")\n",
        "    print(products_df.info())\n",
        "    print(\"\\nTransactions Dataset Info:\")\n",
        "    print(transactions_df.info())\n",
        "\n",
        "    # Convert date columns to datetime\n",
        "    customers_df['SignupDate'] = pd.to_datetime(customers_df['SignupDate'])\n",
        "    transactions_df['TransactionDate'] = pd.to_datetime(transactions_df['TransactionDate'])\n",
        "\n",
        "    # Customer Analysis\n",
        "    customer_stats = {\n",
        "        'total_customers': len(customers_df),\n",
        "        'customers_by_region': customers_df['Region'].value_counts(),\n",
        "        'signup_date_range': (customers_df['SignupDate'].min(), customers_df['SignupDate'].max())\n",
        "    }\n",
        "\n",
        "    # Product Analysis\n",
        "    product_stats = {\n",
        "        'total_products': len(products_df),\n",
        "        'products_by_category': products_df['Category'].value_counts(),\n",
        "        'price_stats': products_df['Price'].describe()\n",
        "    }\n",
        "\n",
        "    # Transaction Analysis\n",
        "    transaction_stats = {\n",
        "        'total_transactions': len(transactions_df),\n",
        "        'total_revenue': transactions_df['TotalValue'].sum(),\n",
        "        'avg_transaction_value': transactions_df['TotalValue'].mean(),\n",
        "        'transactions_by_date': transactions_df.groupby(transactions_df['TransactionDate'].dt.date)['TotalValue'].sum()\n",
        "    }\n",
        "\n",
        "# Customer Purchase Behavior, we calculate Purchase frequency and total spendings:\n",
        "    customer_purchase_freq = transactions_df['CustomerID'].value_counts()\n",
        "    customer_total_spend = transactions_df.groupby('CustomerID')['TotalValue'].sum()\n",
        "\n",
        "    # Product Performance\n",
        "    product_performance = transactions_df.merge(products_df, on='ProductID')\\\n",
        "        .groupby('Category')\\\n",
        "        .agg({\n",
        "            'TransactionID': 'count',\n",
        "            'TotalValue': 'sum',\n",
        "            'Quantity': 'sum'\n",
        "        })\\\n",
        "        .rename(columns={\n",
        "            'TransactionID': 'total_sales',\n",
        "            'TotalValue': 'total_revenue',\n",
        "            'Quantity': 'units_sold'\n",
        "        })\n",
        "\n",
        "# Key Insights about the data:\n",
        "    print(\"\\nKey Business Insights:\")\n",
        "# 1) Total Revenue:\n",
        "    print(f\"1. Total Revenue: ${transaction_stats['total_revenue']:,.2f}\")\n",
        "# 2) Average Transaction Value\n",
        "    print(f\"2. Average Transaction Value: ${transaction_stats['avg_transaction_value']:,.2f}\")\n",
        "# 3) Most Active Customer Region\n",
        "    print(f\"3. Most Active Customer Region: {customer_stats['customers_by_region'].index[0]}\")\n",
        "# 4) Best Performing Category\n",
        "    print(f\"4. Best Performing Category: {product_performance['total_revenue'].idxmax()}\")\n",
        "# 5) Customer Purchase Frequency\n",
        "    print(f\"5. Customer Purchase Frequency: {customer_purchase_freq.mean():.2f} transactions per customer\")\n",
        ""
      ],
      "metadata": {
        "id": "lShNGxeU8GA_"
      },
      "execution_count": 21,
      "outputs": []
    },
    {
      "cell_type": "markdown",
      "source": [
        "**Highlighting 5 key insights about the analysed data:**"
      ],
      "metadata": {
        "id": "f5Jdf9Pi-kcA"
      }
    },
    {
      "cell_type": "code",
      "source": [
        "# Execute the analysis\n",
        "await load_and_analyze_data()"
      ],
      "metadata": {
        "colab": {
          "base_uri": "https://localhost:8080/"
        },
        "id": "1_AlQNv08eoF",
        "outputId": "c2eabe39-99d3-4123-a4e8-15b39cca128f"
      },
      "execution_count": 22,
      "outputs": [
        {
          "output_type": "stream",
          "name": "stdout",
          "text": [
            "\n",
            "Customers Dataset Info:\n",
            "<class 'pandas.core.frame.DataFrame'>\n",
            "RangeIndex: 200 entries, 0 to 199\n",
            "Data columns (total 4 columns):\n",
            " #   Column        Non-Null Count  Dtype \n",
            "---  ------        --------------  ----- \n",
            " 0   CustomerID    200 non-null    object\n",
            " 1   CustomerName  200 non-null    object\n",
            " 2   Region        200 non-null    object\n",
            " 3   SignupDate    200 non-null    object\n",
            "dtypes: object(4)\n",
            "memory usage: 6.4+ KB\n",
            "None\n",
            "\n",
            "Products Dataset Info:\n",
            "<class 'pandas.core.frame.DataFrame'>\n",
            "RangeIndex: 100 entries, 0 to 99\n",
            "Data columns (total 4 columns):\n",
            " #   Column       Non-Null Count  Dtype  \n",
            "---  ------       --------------  -----  \n",
            " 0   ProductID    100 non-null    object \n",
            " 1   ProductName  100 non-null    object \n",
            " 2   Category     100 non-null    object \n",
            " 3   Price        100 non-null    float64\n",
            "dtypes: float64(1), object(3)\n",
            "memory usage: 3.3+ KB\n",
            "None\n",
            "\n",
            "Transactions Dataset Info:\n",
            "<class 'pandas.core.frame.DataFrame'>\n",
            "RangeIndex: 1000 entries, 0 to 999\n",
            "Data columns (total 7 columns):\n",
            " #   Column           Non-Null Count  Dtype  \n",
            "---  ------           --------------  -----  \n",
            " 0   TransactionID    1000 non-null   object \n",
            " 1   CustomerID       1000 non-null   object \n",
            " 2   ProductID        1000 non-null   object \n",
            " 3   TransactionDate  1000 non-null   object \n",
            " 4   Quantity         1000 non-null   int64  \n",
            " 5   TotalValue       1000 non-null   float64\n",
            " 6   Price            1000 non-null   float64\n",
            "dtypes: float64(2), int64(1), object(4)\n",
            "memory usage: 54.8+ KB\n",
            "None\n",
            "\n",
            "Key Business Insights:\n",
            "1. Total Revenue: $689,995.56\n",
            "2. Average Transaction Value: $690.00\n",
            "3. Most Active Customer Region: South America\n",
            "4. Best Performing Category: Books\n",
            "5. Customer Purchase Frequency: 5.03 transactions per customer\n"
          ]
        }
      ]
    }
  ]
}