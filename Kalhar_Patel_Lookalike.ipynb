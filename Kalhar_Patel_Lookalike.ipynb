{
  "nbformat": 4,
  "nbformat_minor": 0,
  "metadata": {
    "colab": {
      "provenance": []
    },
    "kernelspec": {
      "name": "python3",
      "display_name": "Python 3"
    },
    "language_info": {
      "name": "python"
    }
  },
  "cells": [
    {
      "cell_type": "markdown",
      "source": [
        "***Name: Kalhar Patel***\n",
        "\n",
        "Mail: kalharpatel9@gmail.com"
      ],
      "metadata": {
        "id": "RN4NdgvnDPq5"
      }
    },
    {
      "cell_type": "markdown",
      "source": [
        "***Task 2: Look alike Model:***"
      ],
      "metadata": {
        "id": "nwOxqxk0DIoQ"
      }
    },
    {
      "cell_type": "code",
      "execution_count": 1,
      "metadata": {
        "id": "HtdK1krsCmu5"
      },
      "outputs": [],
      "source": [
        "import pandas as pd\n",
        "import numpy as np\n",
        "from sklearn.preprocessing import StandardScaler\n",
        "from sklearn.metrics.pairwise import cosine_similarity"
      ]
    },
    {
      "cell_type": "markdown",
      "source": [
        "The *build_lookalike_model()* function creates a customer lookalike model by first loading transaction, product, and customer data from CSV files. It then aggregates customer purchase behavior, including total transactions, spending, and quantities purchased. Next, it analyzes product category preferences by merging transaction data with product information and generating a crosstab of product categories purchased by each customer. These features are merged into a single profile for each customer, and all features are scaled to ensure they are on a comparable scale. The function calculates a cosine similarity matrix to measure the similarity between customers based on their purchase behaviors and preferences. For the first 20 customers, it identifies the top 3 most similar customers and stores their customer IDs and similarity scores. Finally, these lookalike recommendations are saved in a DataFrame, which lists the original customer, similar customers, and their similarity scores, providing a foundation for targeted marketing or personalized recommendations."
      ],
      "metadata": {
        "id": "W4kIe1FKDdWd"
      }
    },
    {
      "cell_type": "code",
      "source": [
        "async def build_lookalike_model():\n",
        "    # Read the CSV files\n",
        "    customers_df = pd.read_csv('/content/Customers.csv', encoding='utf8')\n",
        "    products_df = pd.read_csv('/content/Products.csv', encoding='utf8')\n",
        "    transactions_df = pd.read_csv('/content/Transactions.csv', encoding='utf8')\n",
        "\n",
        "\n",
        "    # Feature Engineering\n",
        "    # 1. Customer Purchase Behavior\n",
        "    customer_features = transactions_df.groupby('CustomerID').agg({\n",
        "        'TransactionID': 'count',\n",
        "        'TotalValue': ['sum', 'mean'],\n",
        "        'Quantity': ['sum', 'mean']\n",
        "    }).reset_index()\n",
        "\n",
        "    # Flatten column names\n",
        "    customer_features.columns = ['CustomerID', 'total_transactions', 'total_spend',\n",
        "                               'avg_transaction_value', 'total_quantity', 'avg_quantity']\n",
        "\n",
        "    # 2. Product Category Preferences\n",
        "    transactions_df['ProductID'] = transactions_df['ProductID'].astype(str)\n",
        "    products_df['ProductID'] = products_df['ProductID'].astype(str)\n",
        "\n",
        "    # Merge to get categories and then create crosstab\n",
        "    category_data = transactions_df.merge(products_df[['ProductID', 'Category']], on='ProductID', how='left')\n",
        "    category_pivot = pd.crosstab(\n",
        "        category_data['CustomerID'],\n",
        "        category_data['Category']\n",
        "    )\n",
        "\n",
        "    # 3. Merge all features\n",
        "    customer_profiles = customer_features.merge(category_pivot, on='CustomerID')\n",
        "\n",
        "    # 4. Scale features\n",
        "    scaler = StandardScaler()\n",
        "    scaled_features = scaler.fit_transform(customer_profiles.drop('CustomerID', axis=1))\n",
        "\n",
        "    # Calculate similarity matrix\n",
        "    similarity_matrix = cosine_similarity(scaled_features)\n",
        "\n",
        "    # Function to get top 3 similar customers\n",
        "    def get_top_3_similar(customer_idx, similarity_scores):\n",
        "        # Get indices of top 3 similar customers (excluding self)\n",
        "        similar_indices = np.argsort(similarity_scores)[-4:][:-1][::-1]\n",
        "        return [\n",
        "            (customer_profiles.iloc[idx]['CustomerID'],\n",
        "             similarity_scores[idx])\n",
        "            for idx in similar_indices\n",
        "        ]\n",
        "\n",
        "    # Generate recommendations for first 20 customers\n",
        "    lookalike_recommendations = {}\n",
        "    for i in range(20):  # First 20 customers\n",
        "        customer_id = customer_profiles.iloc[i]['CustomerID']\n",
        "        similar_customers = get_top_3_similar(i, similarity_matrix[i])\n",
        "        lookalike_recommendations[customer_id] = similar_customers\n",
        "\n",
        "    # Create Lookalike.csv\n",
        "    rows = []\n",
        "    for cust_id, similar_custs in lookalike_recommendations.items():\n",
        "        for sim_cust_id, score in similar_custs:\n",
        "            rows.append([cust_id, sim_cust_id, score])\n",
        "\n",
        "    lookalike_df = pd.DataFrame(rows, columns=['CustomerID', 'SimilarCustomerID', 'SimilarityScore'])\n",
        "    return lookalike_df\n"
      ],
      "metadata": {
        "id": "sWfHU1pcCtqr"
      },
      "execution_count": 2,
      "outputs": []
    },
    {
      "cell_type": "code",
      "source": [
        "# Execute the model\n",
        "lookalike_results = await build_lookalike_model()\n",
        "print(lookalike_results)"
      ],
      "metadata": {
        "colab": {
          "base_uri": "https://localhost:8080/"
        },
        "id": "jjrJsyDZDAfi",
        "outputId": "8e29eaa7-30e3-4f19-bebb-7e503b73baac"
      },
      "execution_count": 3,
      "outputs": [
        {
          "output_type": "stream",
          "name": "stdout",
          "text": [
            "   CustomerID SimilarCustomerID  SimilarityScore\n",
            "0       C0001             C0069         0.924680\n",
            "1       C0001             C0035         0.799590\n",
            "2       C0001             C0127         0.788884\n",
            "3       C0002             C0062         0.891223\n",
            "4       C0002             C0031         0.850468\n",
            "5       C0002             C0133         0.845447\n",
            "6       C0003             C0144         0.828690\n",
            "7       C0003             C0166         0.776008\n",
            "8       C0003             C0129         0.724981\n",
            "9       C0004             C0113         0.926389\n",
            "10      C0004             C0017         0.919186\n",
            "11      C0004             C0065         0.900377\n",
            "12      C0005             C0095         0.905358\n",
            "13      C0005             C0007         0.902686\n",
            "14      C0005             C0035         0.890939\n",
            "15      C0006             C0185         0.881737\n",
            "16      C0006             C0196         0.861784\n",
            "17      C0006             C0079         0.850102\n",
            "18      C0007             C0005         0.902686\n",
            "19      C0007             C0140         0.899262\n",
            "20      C0007             C0120         0.883603\n",
            "21      C0008             C0162         0.910215\n",
            "22      C0008             C0181         0.872207\n",
            "23      C0008             C0090         0.852996\n",
            "24      C0009             C0198         0.941672\n",
            "25      C0009             C0083         0.941588\n",
            "26      C0009             C0058         0.936910\n",
            "27      C0010             C0030         0.891286\n",
            "28      C0010             C0029         0.849405\n",
            "29      C0010             C0077         0.802742\n",
            "30      C0011             C0126         0.912272\n",
            "31      C0011             C0193         0.879958\n",
            "32      C0011             C0171         0.879802\n",
            "33      C0012             C0065         0.972846\n",
            "34      C0012             C0104         0.931234\n",
            "35      C0012             C0136         0.872187\n",
            "36      C0013             C0105         0.942526\n",
            "37      C0013             C0067         0.876759\n",
            "38      C0013             C0188         0.854150\n",
            "39      C0014             C0060         0.980482\n",
            "40      C0014             C0033         0.943163\n",
            "41      C0014             C0015         0.942065\n",
            "42      C0015             C0123         0.984824\n",
            "43      C0015             C0014         0.942065\n",
            "44      C0015             C0128         0.908516\n",
            "45      C0016             C0183         0.914684\n",
            "46      C0016             C0107         0.906413\n",
            "47      C0016             C0067         0.682009\n",
            "48      C0017             C0075         0.937676\n",
            "49      C0017             C0004         0.919186\n",
            "50      C0017             C0113         0.892576\n",
            "51      C0018             C0148         0.896177\n",
            "52      C0018             C0114         0.864665\n",
            "53      C0018             C0182         0.762551\n",
            "54      C0019             C0191         0.927327\n",
            "55      C0019             C0174         0.850627\n",
            "56      C0019             C0118         0.734211\n",
            "57      C0020             C0080         0.937020\n",
            "58      C0020             C0140         0.926073\n",
            "59      C0020             C0129         0.885812\n"
          ]
        }
      ]
    }
  ]
}